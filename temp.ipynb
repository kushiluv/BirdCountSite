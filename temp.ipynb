{
 "cells": [
  {
   "cell_type": "code",
   "execution_count": 12,
   "metadata": {},
   "outputs": [
    {
     "name": "stdout",
     "output_type": "stream",
     "text": [
      "The hash value is: e343642657edc4c5b3043963076d74a51c5cd0b30ba03e1412e8160395c40e4d\n"
     ]
    }
   ],
   "source": [
    "import hashlib\n",
    "\n",
    "def hash_string(input_string):\n",
    "    # Create a new SHA256 hash object\n",
    "    hasher = hashlib.sha256()\n",
    "    \n",
    "    # Update the hash object with the bytes of the string\n",
    "    hasher.update(input_string.encode())\n",
    "    \n",
    "    # Return the hexadecimal digest of the string\n",
    "    return hasher.hexdigest()\n",
    "\n",
    "# Example usage:\n",
    "hashed_value = hash_string(\"abcsdasddsfffffffffffffffffffffffffffffffsfdsafsfdsfasfasefewafsdfsafdassdasfasdfsdafsdafasdfafdasfdasfsafafasfasdfdasfdsafdsafdasfsafsdfdasfdasfsdafasdfdsfasdfsdfasdfasd\")\n",
    "print(f\"The hash value is: {hashed_value}\")"
   ]
  },
  {
   "cell_type": "code",
   "execution_count": 13,
   "metadata": {},
   "outputs": [
    {
     "data": {
      "text/plain": [
       "64"
      ]
     },
     "execution_count": 13,
     "metadata": {},
     "output_type": "execute_result"
    }
   ],
   "source": [
    "len(hashed_value)"
   ]
  },
  {
   "cell_type": "code",
   "execution_count": null,
   "metadata": {},
   "outputs": [],
   "source": []
  }
 ],
 "metadata": {
  "kernelspec": {
   "display_name": "Python 3",
   "language": "python",
   "name": "python3"
  },
  "language_info": {
   "codemirror_mode": {
    "name": "ipython",
    "version": 3
   },
   "file_extension": ".py",
   "mimetype": "text/x-python",
   "name": "python",
   "nbconvert_exporter": "python",
   "pygments_lexer": "ipython3",
   "version": "3.9.13"
  }
 },
 "nbformat": 4,
 "nbformat_minor": 2
}
